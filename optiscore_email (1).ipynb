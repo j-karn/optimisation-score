{
  "nbformat": 4,
  "nbformat_minor": 0,
  "metadata": {
    "colab": {
      "provenance": []
    },
    "kernelspec": {
      "name": "python3",
      "display_name": "Python 3"
    },
    "language_info": {
      "name": "python"
    }
  },
  "cells": [
    {
      "cell_type": "code",
      "source": [
        "# If the notebook doesn't render properly, please use nbviewer link below"
      ],
      "metadata": {
        "id": "vG9ynkkH5lBJ"
      },
      "execution_count": null,
      "outputs": []
    },
    {
      "cell_type": "markdown",
      "source": [
        "[https://nbviewer.org/github/j-karn/optimisation-score/blob/main/optiscore_email.ipynb](https://nbviewer.org/github/j-karn/optimisation-score/blob/main/optiscore_email.ipynb)"
      ],
      "metadata": {
        "id": "9GQsuVMQ6DSv"
      }
    },
    {
      "cell_type": "code",
      "execution_count": null,
      "metadata": {
        "id": "fRAIik1StQqG"
      },
      "outputs": [],
      "source": [
        "# apps script code to produce an email with the content generated from a google sheet table\n",
        "\n",
        "function sendEmail() {\n",
        "  var optiData = getData();\n",
        "  var htmlBody = getEmailHtml(optiData);\n",
        "\n",
        "  MailApp.sendEmail({\n",
        "    to: \"email\",\n",
        "    subject: \"DV Optiscore Headroom for NZ pod\",\n",
        "    //body: body\n",
        "    htmlBody: htmlBody\n",
        "  });\n",
        "}\n",
        "\n",
        "\n",
        "//a new function called getEmailHtml(optiData) that takes optiscore data as input and returns the HTML body to use in the email message\n",
        "function getEmailHtml(optiData) {\n",
        "  // create html template from Template file\n",
        "  var htmlTemplate = HtmlService.createTemplateFromFile(\"Template.html\");\n",
        " htmlTemplate.opti_ranges = optiData;\n",
        "  var htmlBody = htmlTemplate.evaluate().getContent();\n",
        "  return htmlBody;\n",
        "}\n",
        "\n",
        "\n",
        "function getData() {\n",
        "  // retrieves data from google sheet and place under values variable\n",
        "  var values = SpreadsheetApp.getActive().getSheetByName(\"summary\").getRange(\"opti_ranges\").getValues();\n",
        "  values.shift(); // remove headers\n",
        "  var opti_ranges_cell = []; // create an array\n",
        "  // loop through and identify columns\n",
        "  values.forEach(function(value) {\n",
        "    // declaring key value pair\n",
        "    var column = {};\n",
        "    column.columnC = value[0];\n",
        "    column.columnD = value[1];\n",
        "    column.columnE = value[2];\n",
        "    column.columnF = value[3];\n",
        "    column.columnG = value[4];\n",
        "    column.columnH = value[5];\n",
        "    opti_ranges_cell.push(column);\n",
        "  })\n",
        "  // Logger.log(JSON.stringify(opti_ranges_cell));\n",
        "  // Logger.log(JSON.stringify(opti_ranges_cell[6]));\n",
        "  // Logger.log(JSON.stringify(opti_ranges_cell[6].columnC));\n",
        "\n",
        "  return opti_ranges_cell;\n",
        "}\n",
        "\n",
        "\n",
        "// using this to convert email to html format https://www.textfixer.com/html/convert-email-to-html.php"
      ]
    }
  ]
}